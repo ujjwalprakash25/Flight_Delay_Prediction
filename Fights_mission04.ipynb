{
 "cells": [
  {
   "cell_type": "markdown",
   "metadata": {},
   "source": [
    "# Flights-Delay-Prediction"
   ]
  },
  {
   "cell_type": "markdown",
   "metadata": {},
   "source": [
    "To Make Flight Delay Prediction Model."
   ]
  },
  {
   "cell_type": "markdown",
   "metadata": {},
   "source": [
    "## Importing Required python Libraries"
   ]
  },
  {
   "cell_type": "code",
   "execution_count": 2,
   "metadata": {},
   "outputs": [],
   "source": [
    "import pandas as pd\n",
    "import numpy as np\n",
    "import matplotlib.pyplot as plt\n",
    "import seaborn as sns\n",
    "\n",
    "%matplotlib inline"
   ]
  },
  {
   "cell_type": "markdown",
   "metadata": {},
   "source": [
    "## Data Collection"
   ]
  },
  {
   "cell_type": "code",
   "execution_count": 3,
   "metadata": {},
   "outputs": [],
   "source": [
    "flights = pd.read_csv(\"C:/Users/Ujjwal/Downloads/flights.csv\")"
   ]
  },
  {
   "cell_type": "code",
   "execution_count": 4,
   "metadata": {},
   "outputs": [
    {
     "data": {
      "text/html": [
       "<div>\n",
       "<style scoped>\n",
       "    .dataframe tbody tr th:only-of-type {\n",
       "        vertical-align: middle;\n",
       "    }\n",
       "\n",
       "    .dataframe tbody tr th {\n",
       "        vertical-align: top;\n",
       "    }\n",
       "\n",
       "    .dataframe thead th {\n",
       "        text-align: right;\n",
       "    }\n",
       "</style>\n",
       "<table border=\"1\" class=\"dataframe\">\n",
       "  <thead>\n",
       "    <tr style=\"text-align: right;\">\n",
       "      <th></th>\n",
       "      <th>YEAR</th>\n",
       "      <th>MONTH</th>\n",
       "      <th>DAY</th>\n",
       "      <th>DAY_OF_WEEK</th>\n",
       "      <th>AIRLINE</th>\n",
       "      <th>FLIGHT_NUMBER</th>\n",
       "      <th>TAIL_NUMBER</th>\n",
       "      <th>ORIGIN_AIRPORT</th>\n",
       "      <th>DESTINATION_AIRPORT</th>\n",
       "      <th>SCHEDULED_DEPARTURE</th>\n",
       "      <th>...</th>\n",
       "      <th>ARRIVAL_TIME</th>\n",
       "      <th>ARRIVAL_DELAY</th>\n",
       "      <th>DIVERTED</th>\n",
       "      <th>CANCELLED</th>\n",
       "      <th>CANCELLATION_REASON</th>\n",
       "      <th>AIR_SYSTEM_DELAY</th>\n",
       "      <th>SECURITY_DELAY</th>\n",
       "      <th>AIRLINE_DELAY</th>\n",
       "      <th>LATE_AIRCRAFT_DELAY</th>\n",
       "      <th>WEATHER_DELAY</th>\n",
       "    </tr>\n",
       "  </thead>\n",
       "  <tbody>\n",
       "    <tr>\n",
       "      <th>0</th>\n",
       "      <td>2015</td>\n",
       "      <td>1</td>\n",
       "      <td>1</td>\n",
       "      <td>4</td>\n",
       "      <td>AS</td>\n",
       "      <td>98</td>\n",
       "      <td>N407AS</td>\n",
       "      <td>ANC</td>\n",
       "      <td>SEA</td>\n",
       "      <td>5</td>\n",
       "      <td>...</td>\n",
       "      <td>408.0</td>\n",
       "      <td>-22.0</td>\n",
       "      <td>0</td>\n",
       "      <td>0</td>\n",
       "      <td>NaN</td>\n",
       "      <td>NaN</td>\n",
       "      <td>NaN</td>\n",
       "      <td>NaN</td>\n",
       "      <td>NaN</td>\n",
       "      <td>NaN</td>\n",
       "    </tr>\n",
       "    <tr>\n",
       "      <th>1</th>\n",
       "      <td>2015</td>\n",
       "      <td>1</td>\n",
       "      <td>1</td>\n",
       "      <td>4</td>\n",
       "      <td>AA</td>\n",
       "      <td>2336</td>\n",
       "      <td>N3KUAA</td>\n",
       "      <td>LAX</td>\n",
       "      <td>PBI</td>\n",
       "      <td>10</td>\n",
       "      <td>...</td>\n",
       "      <td>741.0</td>\n",
       "      <td>-9.0</td>\n",
       "      <td>0</td>\n",
       "      <td>0</td>\n",
       "      <td>NaN</td>\n",
       "      <td>NaN</td>\n",
       "      <td>NaN</td>\n",
       "      <td>NaN</td>\n",
       "      <td>NaN</td>\n",
       "      <td>NaN</td>\n",
       "    </tr>\n",
       "    <tr>\n",
       "      <th>2</th>\n",
       "      <td>2015</td>\n",
       "      <td>1</td>\n",
       "      <td>1</td>\n",
       "      <td>4</td>\n",
       "      <td>US</td>\n",
       "      <td>840</td>\n",
       "      <td>N171US</td>\n",
       "      <td>SFO</td>\n",
       "      <td>CLT</td>\n",
       "      <td>20</td>\n",
       "      <td>...</td>\n",
       "      <td>811.0</td>\n",
       "      <td>5.0</td>\n",
       "      <td>0</td>\n",
       "      <td>0</td>\n",
       "      <td>NaN</td>\n",
       "      <td>NaN</td>\n",
       "      <td>NaN</td>\n",
       "      <td>NaN</td>\n",
       "      <td>NaN</td>\n",
       "      <td>NaN</td>\n",
       "    </tr>\n",
       "    <tr>\n",
       "      <th>3</th>\n",
       "      <td>2015</td>\n",
       "      <td>1</td>\n",
       "      <td>1</td>\n",
       "      <td>4</td>\n",
       "      <td>AA</td>\n",
       "      <td>258</td>\n",
       "      <td>N3HYAA</td>\n",
       "      <td>LAX</td>\n",
       "      <td>MIA</td>\n",
       "      <td>20</td>\n",
       "      <td>...</td>\n",
       "      <td>756.0</td>\n",
       "      <td>-9.0</td>\n",
       "      <td>0</td>\n",
       "      <td>0</td>\n",
       "      <td>NaN</td>\n",
       "      <td>NaN</td>\n",
       "      <td>NaN</td>\n",
       "      <td>NaN</td>\n",
       "      <td>NaN</td>\n",
       "      <td>NaN</td>\n",
       "    </tr>\n",
       "    <tr>\n",
       "      <th>4</th>\n",
       "      <td>2015</td>\n",
       "      <td>1</td>\n",
       "      <td>1</td>\n",
       "      <td>4</td>\n",
       "      <td>AS</td>\n",
       "      <td>135</td>\n",
       "      <td>N527AS</td>\n",
       "      <td>SEA</td>\n",
       "      <td>ANC</td>\n",
       "      <td>25</td>\n",
       "      <td>...</td>\n",
       "      <td>259.0</td>\n",
       "      <td>-21.0</td>\n",
       "      <td>0</td>\n",
       "      <td>0</td>\n",
       "      <td>NaN</td>\n",
       "      <td>NaN</td>\n",
       "      <td>NaN</td>\n",
       "      <td>NaN</td>\n",
       "      <td>NaN</td>\n",
       "      <td>NaN</td>\n",
       "    </tr>\n",
       "    <tr>\n",
       "      <th>...</th>\n",
       "      <td>...</td>\n",
       "      <td>...</td>\n",
       "      <td>...</td>\n",
       "      <td>...</td>\n",
       "      <td>...</td>\n",
       "      <td>...</td>\n",
       "      <td>...</td>\n",
       "      <td>...</td>\n",
       "      <td>...</td>\n",
       "      <td>...</td>\n",
       "      <td>...</td>\n",
       "      <td>...</td>\n",
       "      <td>...</td>\n",
       "      <td>...</td>\n",
       "      <td>...</td>\n",
       "      <td>...</td>\n",
       "      <td>...</td>\n",
       "      <td>...</td>\n",
       "      <td>...</td>\n",
       "      <td>...</td>\n",
       "      <td>...</td>\n",
       "    </tr>\n",
       "    <tr>\n",
       "      <th>99994</th>\n",
       "      <td>2015</td>\n",
       "      <td>1</td>\n",
       "      <td>7</td>\n",
       "      <td>3</td>\n",
       "      <td>OO</td>\n",
       "      <td>4774</td>\n",
       "      <td>N463SW</td>\n",
       "      <td>SLC</td>\n",
       "      <td>PSC</td>\n",
       "      <td>1107</td>\n",
       "      <td>...</td>\n",
       "      <td>1153.0</td>\n",
       "      <td>-4.0</td>\n",
       "      <td>0</td>\n",
       "      <td>0</td>\n",
       "      <td>NaN</td>\n",
       "      <td>NaN</td>\n",
       "      <td>NaN</td>\n",
       "      <td>NaN</td>\n",
       "      <td>NaN</td>\n",
       "      <td>NaN</td>\n",
       "    </tr>\n",
       "    <tr>\n",
       "      <th>99995</th>\n",
       "      <td>2015</td>\n",
       "      <td>1</td>\n",
       "      <td>7</td>\n",
       "      <td>3</td>\n",
       "      <td>EV</td>\n",
       "      <td>4992</td>\n",
       "      <td>N837AS</td>\n",
       "      <td>ATL</td>\n",
       "      <td>BQK</td>\n",
       "      <td>1108</td>\n",
       "      <td>...</td>\n",
       "      <td>1208.0</td>\n",
       "      <td>-11.0</td>\n",
       "      <td>0</td>\n",
       "      <td>0</td>\n",
       "      <td>NaN</td>\n",
       "      <td>NaN</td>\n",
       "      <td>NaN</td>\n",
       "      <td>NaN</td>\n",
       "      <td>NaN</td>\n",
       "      <td>NaN</td>\n",
       "    </tr>\n",
       "    <tr>\n",
       "      <th>99996</th>\n",
       "      <td>2015</td>\n",
       "      <td>1</td>\n",
       "      <td>7</td>\n",
       "      <td>3</td>\n",
       "      <td>NK</td>\n",
       "      <td>394</td>\n",
       "      <td>N522NK</td>\n",
       "      <td>LAS</td>\n",
       "      <td>PHL</td>\n",
       "      <td>1108</td>\n",
       "      <td>...</td>\n",
       "      <td>1844.0</td>\n",
       "      <td>2.0</td>\n",
       "      <td>0</td>\n",
       "      <td>0</td>\n",
       "      <td>NaN</td>\n",
       "      <td>NaN</td>\n",
       "      <td>NaN</td>\n",
       "      <td>NaN</td>\n",
       "      <td>NaN</td>\n",
       "      <td>NaN</td>\n",
       "    </tr>\n",
       "    <tr>\n",
       "      <th>99997</th>\n",
       "      <td>2015</td>\n",
       "      <td>1</td>\n",
       "      <td>7</td>\n",
       "      <td>3</td>\n",
       "      <td>OO</td>\n",
       "      <td>5606</td>\n",
       "      <td>N582SW</td>\n",
       "      <td>SFO</td>\n",
       "      <td>BFL</td>\n",
       "      <td>1108</td>\n",
       "      <td>...</td>\n",
       "      <td>1232.0</td>\n",
       "      <td>7.0</td>\n",
       "      <td>0</td>\n",
       "      <td>0</td>\n",
       "      <td>NaN</td>\n",
       "      <td>NaN</td>\n",
       "      <td>NaN</td>\n",
       "      <td>NaN</td>\n",
       "      <td>NaN</td>\n",
       "      <td>NaN</td>\n",
       "    </tr>\n",
       "    <tr>\n",
       "      <th>99998</th>\n",
       "      <td>2015</td>\n",
       "      <td>1</td>\n",
       "      <td>7</td>\n",
       "      <td>3</td>\n",
       "      <td>UA</td>\n",
       "      <td>1135</td>\n",
       "      <td>N38473</td>\n",
       "      <td>ORD</td>\n",
       "      <td>MCO</td>\n",
       "      <td>1109</td>\n",
       "      <td>...</td>\n",
       "      <td>1453.0</td>\n",
       "      <td>-1.0</td>\n",
       "      <td>0</td>\n",
       "      <td>0</td>\n",
       "      <td>NaN</td>\n",
       "      <td>NaN</td>\n",
       "      <td>NaN</td>\n",
       "      <td>NaN</td>\n",
       "      <td>NaN</td>\n",
       "      <td>NaN</td>\n",
       "    </tr>\n",
       "  </tbody>\n",
       "</table>\n",
       "<p>99999 rows × 31 columns</p>\n",
       "</div>"
      ],
      "text/plain": [
       "       YEAR  MONTH  DAY  DAY_OF_WEEK AIRLINE  FLIGHT_NUMBER TAIL_NUMBER  \\\n",
       "0      2015      1    1            4      AS             98      N407AS   \n",
       "1      2015      1    1            4      AA           2336      N3KUAA   \n",
       "2      2015      1    1            4      US            840      N171US   \n",
       "3      2015      1    1            4      AA            258      N3HYAA   \n",
       "4      2015      1    1            4      AS            135      N527AS   \n",
       "...     ...    ...  ...          ...     ...            ...         ...   \n",
       "99994  2015      1    7            3      OO           4774      N463SW   \n",
       "99995  2015      1    7            3      EV           4992      N837AS   \n",
       "99996  2015      1    7            3      NK            394      N522NK   \n",
       "99997  2015      1    7            3      OO           5606      N582SW   \n",
       "99998  2015      1    7            3      UA           1135      N38473   \n",
       "\n",
       "      ORIGIN_AIRPORT DESTINATION_AIRPORT  SCHEDULED_DEPARTURE  ...  \\\n",
       "0                ANC                 SEA                    5  ...   \n",
       "1                LAX                 PBI                   10  ...   \n",
       "2                SFO                 CLT                   20  ...   \n",
       "3                LAX                 MIA                   20  ...   \n",
       "4                SEA                 ANC                   25  ...   \n",
       "...              ...                 ...                  ...  ...   \n",
       "99994            SLC                 PSC                 1107  ...   \n",
       "99995            ATL                 BQK                 1108  ...   \n",
       "99996            LAS                 PHL                 1108  ...   \n",
       "99997            SFO                 BFL                 1108  ...   \n",
       "99998            ORD                 MCO                 1109  ...   \n",
       "\n",
       "       ARRIVAL_TIME  ARRIVAL_DELAY  DIVERTED  CANCELLED  CANCELLATION_REASON  \\\n",
       "0             408.0          -22.0         0          0                  NaN   \n",
       "1             741.0           -9.0         0          0                  NaN   \n",
       "2             811.0            5.0         0          0                  NaN   \n",
       "3             756.0           -9.0         0          0                  NaN   \n",
       "4             259.0          -21.0         0          0                  NaN   \n",
       "...             ...            ...       ...        ...                  ...   \n",
       "99994        1153.0           -4.0         0          0                  NaN   \n",
       "99995        1208.0          -11.0         0          0                  NaN   \n",
       "99996        1844.0            2.0         0          0                  NaN   \n",
       "99997        1232.0            7.0         0          0                  NaN   \n",
       "99998        1453.0           -1.0         0          0                  NaN   \n",
       "\n",
       "       AIR_SYSTEM_DELAY  SECURITY_DELAY  AIRLINE_DELAY  LATE_AIRCRAFT_DELAY  \\\n",
       "0                   NaN             NaN            NaN                  NaN   \n",
       "1                   NaN             NaN            NaN                  NaN   \n",
       "2                   NaN             NaN            NaN                  NaN   \n",
       "3                   NaN             NaN            NaN                  NaN   \n",
       "4                   NaN             NaN            NaN                  NaN   \n",
       "...                 ...             ...            ...                  ...   \n",
       "99994               NaN             NaN            NaN                  NaN   \n",
       "99995               NaN             NaN            NaN                  NaN   \n",
       "99996               NaN             NaN            NaN                  NaN   \n",
       "99997               NaN             NaN            NaN                  NaN   \n",
       "99998               NaN             NaN            NaN                  NaN   \n",
       "\n",
       "       WEATHER_DELAY  \n",
       "0                NaN  \n",
       "1                NaN  \n",
       "2                NaN  \n",
       "3                NaN  \n",
       "4                NaN  \n",
       "...              ...  \n",
       "99994            NaN  \n",
       "99995            NaN  \n",
       "99996            NaN  \n",
       "99997            NaN  \n",
       "99998            NaN  \n",
       "\n",
       "[99999 rows x 31 columns]"
      ]
     },
     "execution_count": 4,
     "metadata": {},
     "output_type": "execute_result"
    }
   ],
   "source": [
    "flights"
   ]
  },
  {
   "cell_type": "code",
   "execution_count": 129,
   "metadata": {},
   "outputs": [
    {
     "name": "stdout",
     "output_type": "stream",
     "text": [
      "<class 'pandas.core.frame.DataFrame'>\n",
      "RangeIndex: 99999 entries, 0 to 99998\n",
      "Data columns (total 31 columns):\n",
      " #   Column               Non-Null Count  Dtype  \n",
      "---  ------               --------------  -----  \n",
      " 0   YEAR                 99999 non-null  int64  \n",
      " 1   MONTH                99999 non-null  int64  \n",
      " 2   DAY                  99999 non-null  int64  \n",
      " 3   DAY_OF_WEEK          99999 non-null  int64  \n",
      " 4   AIRLINE              99999 non-null  object \n",
      " 5   FLIGHT_NUMBER        99999 non-null  int64  \n",
      " 6   TAIL_NUMBER          99832 non-null  object \n",
      " 7   ORIGIN_AIRPORT       99999 non-null  object \n",
      " 8   DESTINATION_AIRPORT  99999 non-null  object \n",
      " 9   SCHEDULED_DEPARTURE  99999 non-null  int64  \n",
      " 10  DEPARTURE_TIME       97701 non-null  float64\n",
      " 11  DEPARTURE_DELAY      97701 non-null  float64\n",
      " 12  TAXI_OUT             97628 non-null  float64\n",
      " 13  WHEELS_OFF           97628 non-null  float64\n",
      " 14  SCHEDULED_TIME       99999 non-null  int64  \n",
      " 15  ELAPSED_TIME         97386 non-null  float64\n",
      " 16  AIR_TIME             97386 non-null  float64\n",
      " 17  DISTANCE             99999 non-null  int64  \n",
      " 18  WHEELS_ON            97559 non-null  float64\n",
      " 19  TAXI_IN              97559 non-null  float64\n",
      " 20  SCHEDULED_ARRIVAL    99999 non-null  int64  \n",
      " 21  ARRIVAL_TIME         97559 non-null  float64\n",
      " 22  ARRIVAL_DELAY        97386 non-null  float64\n",
      " 23  DIVERTED             99999 non-null  int64  \n",
      " 24  CANCELLED            99999 non-null  int64  \n",
      " 25  CANCELLATION_REASON  2389 non-null   object \n",
      " 26  AIR_SYSTEM_DELAY     34625 non-null  float64\n",
      " 27  SECURITY_DELAY       34625 non-null  float64\n",
      " 28  AIRLINE_DELAY        34625 non-null  float64\n",
      " 29  LATE_AIRCRAFT_DELAY  34625 non-null  float64\n",
      " 30  WEATHER_DELAY        34625 non-null  float64\n",
      "dtypes: float64(15), int64(11), object(5)\n",
      "memory usage: 23.7+ MB\n"
     ]
    }
   ],
   "source": [
    "flights.info()"
   ]
  },
  {
   "cell_type": "code",
   "execution_count": 130,
   "metadata": {},
   "outputs": [
    {
     "data": {
      "text/html": [
       "<div>\n",
       "<style scoped>\n",
       "    .dataframe tbody tr th:only-of-type {\n",
       "        vertical-align: middle;\n",
       "    }\n",
       "\n",
       "    .dataframe tbody tr th {\n",
       "        vertical-align: top;\n",
       "    }\n",
       "\n",
       "    .dataframe thead th {\n",
       "        text-align: right;\n",
       "    }\n",
       "</style>\n",
       "<table border=\"1\" class=\"dataframe\">\n",
       "  <thead>\n",
       "    <tr style=\"text-align: right;\">\n",
       "      <th></th>\n",
       "      <th>YEAR</th>\n",
       "      <th>MONTH</th>\n",
       "      <th>DAY</th>\n",
       "      <th>DAY_OF_WEEK</th>\n",
       "      <th>FLIGHT_NUMBER</th>\n",
       "      <th>SCHEDULED_DEPARTURE</th>\n",
       "      <th>DEPARTURE_TIME</th>\n",
       "      <th>DEPARTURE_DELAY</th>\n",
       "      <th>TAXI_OUT</th>\n",
       "      <th>WHEELS_OFF</th>\n",
       "      <th>...</th>\n",
       "      <th>SCHEDULED_ARRIVAL</th>\n",
       "      <th>ARRIVAL_TIME</th>\n",
       "      <th>ARRIVAL_DELAY</th>\n",
       "      <th>DIVERTED</th>\n",
       "      <th>CANCELLED</th>\n",
       "      <th>AIR_SYSTEM_DELAY</th>\n",
       "      <th>SECURITY_DELAY</th>\n",
       "      <th>AIRLINE_DELAY</th>\n",
       "      <th>LATE_AIRCRAFT_DELAY</th>\n",
       "      <th>WEATHER_DELAY</th>\n",
       "    </tr>\n",
       "  </thead>\n",
       "  <tbody>\n",
       "    <tr>\n",
       "      <th>count</th>\n",
       "      <td>99999.0</td>\n",
       "      <td>99999.0</td>\n",
       "      <td>99999.000000</td>\n",
       "      <td>99999.000000</td>\n",
       "      <td>99999.000000</td>\n",
       "      <td>99999.000000</td>\n",
       "      <td>97701.000000</td>\n",
       "      <td>97701.000000</td>\n",
       "      <td>97628.000000</td>\n",
       "      <td>97628.000000</td>\n",
       "      <td>...</td>\n",
       "      <td>99999.000000</td>\n",
       "      <td>97559.000000</td>\n",
       "      <td>97386.000000</td>\n",
       "      <td>99999.000000</td>\n",
       "      <td>99999.000000</td>\n",
       "      <td>34625.000000</td>\n",
       "      <td>34625.000000</td>\n",
       "      <td>34625.000000</td>\n",
       "      <td>34625.000000</td>\n",
       "      <td>34625.000000</td>\n",
       "    </tr>\n",
       "    <tr>\n",
       "      <th>mean</th>\n",
       "      <td>2015.0</td>\n",
       "      <td>1.0</td>\n",
       "      <td>3.733887</td>\n",
       "      <td>4.107321</td>\n",
       "      <td>2240.849648</td>\n",
       "      <td>1306.350254</td>\n",
       "      <td>1326.267930</td>\n",
       "      <td>19.938046</td>\n",
       "      <td>17.155908</td>\n",
       "      <td>1348.428514</td>\n",
       "      <td>...</td>\n",
       "      <td>1481.118231</td>\n",
       "      <td>1458.032442</td>\n",
       "      <td>18.342575</td>\n",
       "      <td>0.002240</td>\n",
       "      <td>0.023890</td>\n",
       "      <td>14.026801</td>\n",
       "      <td>0.070787</td>\n",
       "      <td>17.853921</td>\n",
       "      <td>26.014556</td>\n",
       "      <td>2.751971</td>\n",
       "    </tr>\n",
       "    <tr>\n",
       "      <th>std</th>\n",
       "      <td>0.0</td>\n",
       "      <td>0.0</td>\n",
       "      <td>1.815522</td>\n",
       "      <td>2.098459</td>\n",
       "      <td>1818.708843</td>\n",
       "      <td>482.327514</td>\n",
       "      <td>503.511173</td>\n",
       "      <td>45.843719</td>\n",
       "      <td>10.738428</td>\n",
       "      <td>504.144849</td>\n",
       "      <td>...</td>\n",
       "      <td>498.918169</td>\n",
       "      <td>538.213952</td>\n",
       "      <td>48.878412</td>\n",
       "      <td>0.047276</td>\n",
       "      <td>0.152708</td>\n",
       "      <td>25.965405</td>\n",
       "      <td>1.692526</td>\n",
       "      <td>43.527539</td>\n",
       "      <td>42.593343</td>\n",
       "      <td>17.265760</td>\n",
       "    </tr>\n",
       "    <tr>\n",
       "      <th>min</th>\n",
       "      <td>2015.0</td>\n",
       "      <td>1.0</td>\n",
       "      <td>1.000000</td>\n",
       "      <td>1.000000</td>\n",
       "      <td>1.000000</td>\n",
       "      <td>5.000000</td>\n",
       "      <td>1.000000</td>\n",
       "      <td>-39.000000</td>\n",
       "      <td>1.000000</td>\n",
       "      <td>1.000000</td>\n",
       "      <td>...</td>\n",
       "      <td>1.000000</td>\n",
       "      <td>1.000000</td>\n",
       "      <td>-65.000000</td>\n",
       "      <td>0.000000</td>\n",
       "      <td>0.000000</td>\n",
       "      <td>0.000000</td>\n",
       "      <td>0.000000</td>\n",
       "      <td>0.000000</td>\n",
       "      <td>0.000000</td>\n",
       "      <td>0.000000</td>\n",
       "    </tr>\n",
       "    <tr>\n",
       "      <th>25%</th>\n",
       "      <td>2015.0</td>\n",
       "      <td>1.0</td>\n",
       "      <td>2.000000</td>\n",
       "      <td>2.000000</td>\n",
       "      <td>759.000000</td>\n",
       "      <td>904.000000</td>\n",
       "      <td>911.000000</td>\n",
       "      <td>-3.000000</td>\n",
       "      <td>11.000000</td>\n",
       "      <td>928.000000</td>\n",
       "      <td>...</td>\n",
       "      <td>1100.000000</td>\n",
       "      <td>1050.000000</td>\n",
       "      <td>-8.000000</td>\n",
       "      <td>0.000000</td>\n",
       "      <td>0.000000</td>\n",
       "      <td>0.000000</td>\n",
       "      <td>0.000000</td>\n",
       "      <td>0.000000</td>\n",
       "      <td>0.000000</td>\n",
       "      <td>0.000000</td>\n",
       "    </tr>\n",
       "    <tr>\n",
       "      <th>50%</th>\n",
       "      <td>2015.0</td>\n",
       "      <td>1.0</td>\n",
       "      <td>4.000000</td>\n",
       "      <td>4.000000</td>\n",
       "      <td>1693.000000</td>\n",
       "      <td>1300.000000</td>\n",
       "      <td>1317.000000</td>\n",
       "      <td>3.000000</td>\n",
       "      <td>14.000000</td>\n",
       "      <td>1330.000000</td>\n",
       "      <td>...</td>\n",
       "      <td>1500.000000</td>\n",
       "      <td>1455.000000</td>\n",
       "      <td>4.000000</td>\n",
       "      <td>0.000000</td>\n",
       "      <td>0.000000</td>\n",
       "      <td>4.000000</td>\n",
       "      <td>0.000000</td>\n",
       "      <td>4.000000</td>\n",
       "      <td>10.000000</td>\n",
       "      <td>0.000000</td>\n",
       "    </tr>\n",
       "    <tr>\n",
       "      <th>75%</th>\n",
       "      <td>2015.0</td>\n",
       "      <td>1.0</td>\n",
       "      <td>5.000000</td>\n",
       "      <td>6.000000</td>\n",
       "      <td>3394.000000</td>\n",
       "      <td>1720.000000</td>\n",
       "      <td>1739.000000</td>\n",
       "      <td>25.000000</td>\n",
       "      <td>20.000000</td>\n",
       "      <td>1753.000000</td>\n",
       "      <td>...</td>\n",
       "      <td>1908.000000</td>\n",
       "      <td>1911.000000</td>\n",
       "      <td>27.000000</td>\n",
       "      <td>0.000000</td>\n",
       "      <td>0.000000</td>\n",
       "      <td>19.000000</td>\n",
       "      <td>0.000000</td>\n",
       "      <td>19.000000</td>\n",
       "      <td>35.000000</td>\n",
       "      <td>0.000000</td>\n",
       "    </tr>\n",
       "    <tr>\n",
       "      <th>max</th>\n",
       "      <td>2015.0</td>\n",
       "      <td>1.0</td>\n",
       "      <td>7.000000</td>\n",
       "      <td>7.000000</td>\n",
       "      <td>7438.000000</td>\n",
       "      <td>2359.000000</td>\n",
       "      <td>2400.000000</td>\n",
       "      <td>1380.000000</td>\n",
       "      <td>176.000000</td>\n",
       "      <td>2400.000000</td>\n",
       "      <td>...</td>\n",
       "      <td>2359.000000</td>\n",
       "      <td>2400.000000</td>\n",
       "      <td>1384.000000</td>\n",
       "      <td>1.000000</td>\n",
       "      <td>1.000000</td>\n",
       "      <td>590.000000</td>\n",
       "      <td>107.000000</td>\n",
       "      <td>1380.000000</td>\n",
       "      <td>891.000000</td>\n",
       "      <td>562.000000</td>\n",
       "    </tr>\n",
       "  </tbody>\n",
       "</table>\n",
       "<p>8 rows × 26 columns</p>\n",
       "</div>"
      ],
      "text/plain": [
       "          YEAR    MONTH           DAY   DAY_OF_WEEK  FLIGHT_NUMBER  \\\n",
       "count  99999.0  99999.0  99999.000000  99999.000000   99999.000000   \n",
       "mean    2015.0      1.0      3.733887      4.107321    2240.849648   \n",
       "std        0.0      0.0      1.815522      2.098459    1818.708843   \n",
       "min     2015.0      1.0      1.000000      1.000000       1.000000   \n",
       "25%     2015.0      1.0      2.000000      2.000000     759.000000   \n",
       "50%     2015.0      1.0      4.000000      4.000000    1693.000000   \n",
       "75%     2015.0      1.0      5.000000      6.000000    3394.000000   \n",
       "max     2015.0      1.0      7.000000      7.000000    7438.000000   \n",
       "\n",
       "       SCHEDULED_DEPARTURE  DEPARTURE_TIME  DEPARTURE_DELAY      TAXI_OUT  \\\n",
       "count         99999.000000    97701.000000     97701.000000  97628.000000   \n",
       "mean           1306.350254     1326.267930        19.938046     17.155908   \n",
       "std             482.327514      503.511173        45.843719     10.738428   \n",
       "min               5.000000        1.000000       -39.000000      1.000000   \n",
       "25%             904.000000      911.000000        -3.000000     11.000000   \n",
       "50%            1300.000000     1317.000000         3.000000     14.000000   \n",
       "75%            1720.000000     1739.000000        25.000000     20.000000   \n",
       "max            2359.000000     2400.000000      1380.000000    176.000000   \n",
       "\n",
       "         WHEELS_OFF  ...  SCHEDULED_ARRIVAL  ARRIVAL_TIME  ARRIVAL_DELAY  \\\n",
       "count  97628.000000  ...       99999.000000  97559.000000   97386.000000   \n",
       "mean    1348.428514  ...        1481.118231   1458.032442      18.342575   \n",
       "std      504.144849  ...         498.918169    538.213952      48.878412   \n",
       "min        1.000000  ...           1.000000      1.000000     -65.000000   \n",
       "25%      928.000000  ...        1100.000000   1050.000000      -8.000000   \n",
       "50%     1330.000000  ...        1500.000000   1455.000000       4.000000   \n",
       "75%     1753.000000  ...        1908.000000   1911.000000      27.000000   \n",
       "max     2400.000000  ...        2359.000000   2400.000000    1384.000000   \n",
       "\n",
       "           DIVERTED     CANCELLED  AIR_SYSTEM_DELAY  SECURITY_DELAY  \\\n",
       "count  99999.000000  99999.000000      34625.000000    34625.000000   \n",
       "mean       0.002240      0.023890         14.026801        0.070787   \n",
       "std        0.047276      0.152708         25.965405        1.692526   \n",
       "min        0.000000      0.000000          0.000000        0.000000   \n",
       "25%        0.000000      0.000000          0.000000        0.000000   \n",
       "50%        0.000000      0.000000          4.000000        0.000000   \n",
       "75%        0.000000      0.000000         19.000000        0.000000   \n",
       "max        1.000000      1.000000        590.000000      107.000000   \n",
       "\n",
       "       AIRLINE_DELAY  LATE_AIRCRAFT_DELAY  WEATHER_DELAY  \n",
       "count   34625.000000         34625.000000   34625.000000  \n",
       "mean       17.853921            26.014556       2.751971  \n",
       "std        43.527539            42.593343      17.265760  \n",
       "min         0.000000             0.000000       0.000000  \n",
       "25%         0.000000             0.000000       0.000000  \n",
       "50%         4.000000            10.000000       0.000000  \n",
       "75%        19.000000            35.000000       0.000000  \n",
       "max      1380.000000           891.000000     562.000000  \n",
       "\n",
       "[8 rows x 26 columns]"
      ]
     },
     "execution_count": 130,
     "metadata": {},
     "output_type": "execute_result"
    }
   ],
   "source": [
    "flights.describe()"
   ]
  },
  {
   "cell_type": "code",
   "execution_count": 16,
   "metadata": {},
   "outputs": [
    {
     "name": "stderr",
     "output_type": "stream",
     "text": [
      "<ipython-input-16-8bf216cd1a56>:4: UserWarning: Attempted to set non-positive left xlim on a log-scaled axis.\n",
      "Invalid limit will be ignored.\n",
      "  plt.xlim(0, 200)\n"
     ]
    },
    {
     "data": {
      "text/plain": [
       "Text(0, 0.5, 'Number of flights')"
      ]
     },
     "execution_count": 16,
     "metadata": {},
     "output_type": "execute_result"
    },
    {
     "data": {
      "image/png": "[encoded data removed]",
      "text/plain": [
       "<Figure size 432x288 with 1 Axes>"
      ]
     },
     "metadata": {
      "needs_background": "light"
     },
     "output_type": "display_data"
    }
   ],
   "source": [
    "fig, ax = plt.subplots()\n",
    "flights.ARRIVAL_DELAY.hist(ax=ax, bins=10, range=(-10, 1000))\n",
    "ax.set_xscale('log')\n",
    "plt.xlim(0, 200)\n",
    "plt.ylim(0, 100000)\n",
    "plt.xlabel('Delay (minutes)')\n",
    "plt.ylabel('Number of flights')"
   ]
  },
  {
   "cell_type": "code",
   "execution_count": 20,
   "metadata": {},
   "outputs": [
    {
     "data": {
      "image/png": "[encoded data removed]",
      "text/plain": [
       "<Figure size 720x504 with 1 Axes>"
      ]
     },
     "metadata": {
      "needs_background": "light"
     },
     "output_type": "display_data"
    }
   ],
   "source": [
    "def delay_by_attribute(attribute, df=flights, figsize=(10, 7)):\n",
    "    \n",
    "    delay_type = lambda x: 0 if x < 15 else 1\n",
    "    flights['DELAY_TYPE'] = flights['DEPARTURE_DELAY'].apply(delay_type)\n",
    "    \n",
    "    plt.figure(1, figsize=figsize)\n",
    "    ax = sns.countplot(y=attribute, hue='DELAY_TYPE', data=df)\n",
    "    \n",
    "    plt.xlabel('Flight count', fontsize=16, weight='bold')\n",
    "    plt.ylabel(attribute, fontsize=16, weight='bold')\n",
    "    plt.title(f'Delay by {attribute}', weight='bold')\n",
    "    L = plt.legend()\n",
    "    L.get_texts()[0].set_text('small delay (t < 10 min)')\n",
    "    L.get_texts()[1].set_text('large delay (t > 10 min)')\n",
    "    plt.grid(True)\n",
    "    plt.show()\n",
    "\n",
    "delay_by_attribute('AIRLINE')"
   ]
  },
  {
   "cell_type": "code",
   "execution_count": 19,
   "metadata": {},
   "outputs": [
    {
     "data": {
      "image/png": "[encoded data removed]",
      "text/plain": [
       "<Figure size 720x504 with 1 Axes>"
      ]
     },
     "metadata": {
      "needs_background": "light"
     },
     "output_type": "display_data"
    }
   ],
   "source": [
    "delay_by_attribute('MONTH')"
   ]
  },
  {
   "cell_type": "code",
   "execution_count": 21,
   "metadata": {},
   "outputs": [
    {
     "data": {
      "image/png": "[encoded data removed]",
      "text/plain": [
       "<Figure size 720x504 with 1 Axes>"
      ]
     },
     "metadata": {
      "needs_background": "light"
     },
     "output_type": "display_data"
    }
   ],
   "source": [
    "delay_by_attribute('DAY')"
   ]
  },
  {
   "cell_type": "code",
   "execution_count": 10,
   "metadata": {},
   "outputs": [
    {
     "data": {
      "text/plain": [
       "0    99775\n",
       "1      224\n",
       "Name: DIVERTED, dtype: int64"
      ]
     },
     "execution_count": 10,
     "metadata": {},
     "output_type": "execute_result"
    }
   ],
   "source": [
    "flights['DIVERTED'].value_counts()"
   ]
  },
  {
   "cell_type": "markdown",
   "metadata": {},
   "source": [
    "## Data Cleaning & Filling"
   ]
  },
  {
   "cell_type": "code",
   "execution_count": 131,
   "metadata": {},
   "outputs": [],
   "source": [
    "flights.drop(['YEAR','FLIGHT_NUMBER','AIRLINE','DISTANCE','TAIL_NUMBER','TAXI_OUT','SCHEDULED_TIME','DEPARTURE_TIME','WHEELS_OFF','ELAPSED_TIME','WHEELS_ON','DAY_OF_WEEK','TAXI_IN','ARRIVAL_TIME','CANCELLATION_REASON'],axis=1,inplace=True)"
   ]
  },
  {
   "cell_type": "code",
   "execution_count": 132,
   "metadata": {},
   "outputs": [],
   "source": [
    "flights.fillna(flights.mean(),inplace=True)"
   ]
  },
  {
   "cell_type": "code",
   "execution_count": 135,
   "metadata": {},
   "outputs": [],
   "source": [
    "flights=flights.drop_duplicates()"
   ]
  },
  {
   "cell_type": "code",
   "execution_count": 136,
   "metadata": {},
   "outputs": [
    {
     "data": {
      "text/plain": [
       "MONTH                  0\n",
       "DAY                    0\n",
       "ORIGIN_AIRPORT         0\n",
       "DESTINATION_AIRPORT    0\n",
       "SCHEDULED_DEPARTURE    0\n",
       "DEPARTURE_DELAY        0\n",
       "AIR_TIME               0\n",
       "SCHEDULED_ARRIVAL      0\n",
       "ARRIVAL_DELAY          0\n",
       "DIVERTED               0\n",
       "CANCELLED              0\n",
       "AIR_SYSTEM_DELAY       0\n",
       "SECURITY_DELAY         0\n",
       "AIRLINE_DELAY          0\n",
       "LATE_AIRCRAFT_DELAY    0\n",
       "WEATHER_DELAY          0\n",
       "dtype: int64"
      ]
     },
     "execution_count": 136,
     "metadata": {},
     "output_type": "execute_result"
    }
   ],
   "source": [
    "flights.isnull().sum()"
   ]
  },
  {
   "cell_type": "code",
   "execution_count": 137,
   "metadata": {},
   "outputs": [
    {
     "data": {
      "text/plain": [
       "<matplotlib.axes._subplots.AxesSubplot at 0x262095b3fd0>"
      ]
     },
     "execution_count": 137,
     "metadata": {},
     "output_type": "execute_result"
    },
    {
     "data": {
      "image/png": "[encoded data removed]",
      "text/plain": [
       "<Figure size 1080x1080 with 2 Axes>"
      ]
     },
     "metadata": {
      "needs_background": "light"
     },
     "output_type": "display_data"
    }
   ],
   "source": [
    "sns.heatmap(flights.isnull())"
   ]
  },
  {
   "cell_type": "code",
   "execution_count": 134,
   "metadata": {},
   "outputs": [
    {
     "name": "stdout",
     "output_type": "stream",
     "text": [
      "<class 'pandas.core.frame.DataFrame'>\n",
      "RangeIndex: 99999 entries, 0 to 99998\n",
      "Data columns (total 16 columns):\n",
      " #   Column               Non-Null Count  Dtype  \n",
      "---  ------               --------------  -----  \n",
      " 0   MONTH                99999 non-null  int64  \n",
      " 1   DAY                  99999 non-null  int64  \n",
      " 2   ORIGIN_AIRPORT       99999 non-null  object \n",
      " 3   DESTINATION_AIRPORT  99999 non-null  object \n",
      " 4   SCHEDULED_DEPARTURE  99999 non-null  int64  \n",
      " 5   DEPARTURE_DELAY      99999 non-null  float64\n",
      " 6   AIR_TIME             99999 non-null  float64\n",
      " 7   SCHEDULED_ARRIVAL    99999 non-null  int64  \n",
      " 8   ARRIVAL_DELAY        99999 non-null  float64\n",
      " 9   DIVERTED             99999 non-null  int64  \n",
      " 10  CANCELLED            99999 non-null  int64  \n",
      " 11  AIR_SYSTEM_DELAY     99999 non-null  float64\n",
      " 12  SECURITY_DELAY       99999 non-null  float64\n",
      " 13  AIRLINE_DELAY        99999 non-null  float64\n",
      " 14  LATE_AIRCRAFT_DELAY  99999 non-null  float64\n",
      " 15  WEATHER_DELAY        99999 non-null  float64\n",
      "dtypes: float64(8), int64(6), object(2)\n",
      "memory usage: 12.2+ MB\n"
     ]
    }
   ],
   "source": [
    "flights.info()"
   ]
  },
  {
   "cell_type": "markdown",
   "metadata": {},
   "source": [
    "## Exploratory Data Analysis"
   ]
  },
  {
   "cell_type": "code",
   "execution_count": 147,
   "metadata": {},
   "outputs": [
    {
     "data": {
      "text/html": [
       "<div>\n",
       "<style scoped>\n",
       "    .dataframe tbody tr th:only-of-type {\n",
       "        vertical-align: middle;\n",
       "    }\n",
       "\n",
       "    .dataframe tbody tr th {\n",
       "        vertical-align: top;\n",
       "    }\n",
       "\n",
       "    .dataframe thead th {\n",
       "        text-align: right;\n",
       "    }\n",
       "</style>\n",
       "<table border=\"1\" class=\"dataframe\">\n",
       "  <thead>\n",
       "    <tr style=\"text-align: right;\">\n",
       "      <th></th>\n",
       "      <th>MONTH</th>\n",
       "      <th>DAY</th>\n",
       "      <th>SCHEDULED_DEPARTURE</th>\n",
       "      <th>DEPARTURE_DELAY</th>\n",
       "      <th>AIR_TIME</th>\n",
       "      <th>SCHEDULED_ARRIVAL</th>\n",
       "      <th>ARRIVAL_DELAY</th>\n",
       "      <th>DIVERTED</th>\n",
       "      <th>CANCELLED</th>\n",
       "      <th>AIR_SYSTEM_DELAY</th>\n",
       "      <th>SECURITY_DELAY</th>\n",
       "      <th>AIRLINE_DELAY</th>\n",
       "      <th>LATE_AIRCRAFT_DELAY</th>\n",
       "      <th>WEATHER_DELAY</th>\n",
       "      <th>RESULT</th>\n",
       "    </tr>\n",
       "  </thead>\n",
       "  <tbody>\n",
       "    <tr>\n",
       "      <th>MONTH</th>\n",
       "      <td>NaN</td>\n",
       "      <td>NaN</td>\n",
       "      <td>NaN</td>\n",
       "      <td>NaN</td>\n",
       "      <td>NaN</td>\n",
       "      <td>NaN</td>\n",
       "      <td>NaN</td>\n",
       "      <td>NaN</td>\n",
       "      <td>NaN</td>\n",
       "      <td>NaN</td>\n",
       "      <td>NaN</td>\n",
       "      <td>NaN</td>\n",
       "      <td>NaN</td>\n",
       "      <td>NaN</td>\n",
       "      <td>NaN</td>\n",
       "    </tr>\n",
       "    <tr>\n",
       "      <th>DAY</th>\n",
       "      <td>NaN</td>\n",
       "      <td>1.000000</td>\n",
       "      <td>-0.138124</td>\n",
       "      <td>0.059372</td>\n",
       "      <td>-3.583626e-02</td>\n",
       "      <td>-0.110813</td>\n",
       "      <td>6.985227e-02</td>\n",
       "      <td>4.847920e-03</td>\n",
       "      <td>-5.996874e-03</td>\n",
       "      <td>5.123179e-02</td>\n",
       "      <td>-5.532429e-03</td>\n",
       "      <td>-8.404666e-04</td>\n",
       "      <td>1.741757e-02</td>\n",
       "      <td>3.249248e-02</td>\n",
       "      <td>0.054250</td>\n",
       "    </tr>\n",
       "    <tr>\n",
       "      <th>SCHEDULED_DEPARTURE</th>\n",
       "      <td>NaN</td>\n",
       "      <td>-0.138124</td>\n",
       "      <td>1.000000</td>\n",
       "      <td>0.172143</td>\n",
       "      <td>-1.183048e-02</td>\n",
       "      <td>0.731239</td>\n",
       "      <td>1.527964e-01</td>\n",
       "      <td>2.514481e-03</td>\n",
       "      <td>-2.631739e-03</td>\n",
       "      <td>-6.301952e-02</td>\n",
       "      <td>-1.006874e-02</td>\n",
       "      <td>-3.051324e-02</td>\n",
       "      <td>1.044521e-01</td>\n",
       "      <td>-2.355221e-02</td>\n",
       "      <td>0.194770</td>\n",
       "    </tr>\n",
       "    <tr>\n",
       "      <th>DEPARTURE_DELAY</th>\n",
       "      <td>NaN</td>\n",
       "      <td>0.059372</td>\n",
       "      <td>0.172143</td>\n",
       "      <td>1.000000</td>\n",
       "      <td>2.715462e-03</td>\n",
       "      <td>0.153286</td>\n",
       "      <td>9.468888e-01</td>\n",
       "      <td>2.078627e-02</td>\n",
       "      <td>6.093710e-03</td>\n",
       "      <td>6.953257e-02</td>\n",
       "      <td>6.515895e-03</td>\n",
       "      <td>4.919108e-01</td>\n",
       "      <td>4.905614e-01</td>\n",
       "      <td>1.705218e-01</td>\n",
       "      <td>0.556979</td>\n",
       "    </tr>\n",
       "    <tr>\n",
       "      <th>AIR_TIME</th>\n",
       "      <td>NaN</td>\n",
       "      <td>-0.035836</td>\n",
       "      <td>-0.011830</td>\n",
       "      <td>0.002715</td>\n",
       "      <td>1.000000e+00</td>\n",
       "      <td>0.040786</td>\n",
       "      <td>-2.747451e-03</td>\n",
       "      <td>3.039896e-17</td>\n",
       "      <td>2.246452e-16</td>\n",
       "      <td>4.301571e-02</td>\n",
       "      <td>6.200966e-03</td>\n",
       "      <td>1.332146e-02</td>\n",
       "      <td>-5.722170e-02</td>\n",
       "      <td>-3.908468e-03</td>\n",
       "      <td>0.014939</td>\n",
       "    </tr>\n",
       "    <tr>\n",
       "      <th>SCHEDULED_ARRIVAL</th>\n",
       "      <td>NaN</td>\n",
       "      <td>-0.110813</td>\n",
       "      <td>0.731239</td>\n",
       "      <td>0.153286</td>\n",
       "      <td>4.078558e-02</td>\n",
       "      <td>1.000000</td>\n",
       "      <td>1.386002e-01</td>\n",
       "      <td>5.991802e-03</td>\n",
       "      <td>-1.313191e-02</td>\n",
       "      <td>-3.787218e-02</td>\n",
       "      <td>-4.859420e-03</td>\n",
       "      <td>-2.963511e-02</td>\n",
       "      <td>8.601490e-02</td>\n",
       "      <td>-2.581266e-02</td>\n",
       "      <td>0.174976</td>\n",
       "    </tr>\n",
       "    <tr>\n",
       "      <th>ARRIVAL_DELAY</th>\n",
       "      <td>NaN</td>\n",
       "      <td>0.069852</td>\n",
       "      <td>0.152796</td>\n",
       "      <td>0.946889</td>\n",
       "      <td>-2.747451e-03</td>\n",
       "      <td>0.138600</td>\n",
       "      <td>1.000000e+00</td>\n",
       "      <td>8.161726e-16</td>\n",
       "      <td>-2.882619e-16</td>\n",
       "      <td>1.933494e-01</td>\n",
       "      <td>4.518918e-03</td>\n",
       "      <td>4.412849e-01</td>\n",
       "      <td>4.265717e-01</td>\n",
       "      <td>1.756343e-01</td>\n",
       "      <td>0.634349</td>\n",
       "    </tr>\n",
       "    <tr>\n",
       "      <th>DIVERTED</th>\n",
       "      <td>NaN</td>\n",
       "      <td>0.004848</td>\n",
       "      <td>0.002514</td>\n",
       "      <td>0.020786</td>\n",
       "      <td>3.039896e-17</td>\n",
       "      <td>0.005992</td>\n",
       "      <td>8.161726e-16</td>\n",
       "      <td>1.000000e+00</td>\n",
       "      <td>-7.412660e-03</td>\n",
       "      <td>-1.376334e-15</td>\n",
       "      <td>1.840322e-17</td>\n",
       "      <td>-1.644752e-16</td>\n",
       "      <td>-5.221617e-16</td>\n",
       "      <td>-8.928735e-16</td>\n",
       "      <td>0.062874</td>\n",
       "    </tr>\n",
       "    <tr>\n",
       "      <th>CANCELLED</th>\n",
       "      <td>NaN</td>\n",
       "      <td>-0.005997</td>\n",
       "      <td>-0.002632</td>\n",
       "      <td>0.006094</td>\n",
       "      <td>2.246452e-16</td>\n",
       "      <td>-0.013132</td>\n",
       "      <td>-2.882619e-16</td>\n",
       "      <td>-7.412660e-03</td>\n",
       "      <td>1.000000e+00</td>\n",
       "      <td>4.558671e-15</td>\n",
       "      <td>-4.232270e-16</td>\n",
       "      <td>-5.259020e-16</td>\n",
       "      <td>-3.289914e-15</td>\n",
       "      <td>3.890049e-15</td>\n",
       "      <td>0.207595</td>\n",
       "    </tr>\n",
       "    <tr>\n",
       "      <th>AIR_SYSTEM_DELAY</th>\n",
       "      <td>NaN</td>\n",
       "      <td>0.051232</td>\n",
       "      <td>-0.063020</td>\n",
       "      <td>0.069533</td>\n",
       "      <td>4.301571e-02</td>\n",
       "      <td>-0.037872</td>\n",
       "      <td>1.933494e-01</td>\n",
       "      <td>-1.376334e-15</td>\n",
       "      <td>4.558671e-15</td>\n",
       "      <td>1.000000e+00</td>\n",
       "      <td>-1.462166e-02</td>\n",
       "      <td>-1.060869e-01</td>\n",
       "      <td>-1.364108e-01</td>\n",
       "      <td>1.950676e-02</td>\n",
       "      <td>0.010670</td>\n",
       "    </tr>\n",
       "    <tr>\n",
       "      <th>SECURITY_DELAY</th>\n",
       "      <td>NaN</td>\n",
       "      <td>-0.005532</td>\n",
       "      <td>-0.010069</td>\n",
       "      <td>0.006516</td>\n",
       "      <td>6.200966e-03</td>\n",
       "      <td>-0.004859</td>\n",
       "      <td>4.518918e-03</td>\n",
       "      <td>1.840322e-17</td>\n",
       "      <td>-4.232270e-16</td>\n",
       "      <td>-1.462166e-02</td>\n",
       "      <td>1.000000e+00</td>\n",
       "      <td>-9.884325e-03</td>\n",
       "      <td>-1.213621e-02</td>\n",
       "      <td>2.736869e-04</td>\n",
       "      <td>0.001107</td>\n",
       "    </tr>\n",
       "    <tr>\n",
       "      <th>AIRLINE_DELAY</th>\n",
       "      <td>NaN</td>\n",
       "      <td>-0.000840</td>\n",
       "      <td>-0.030513</td>\n",
       "      <td>0.491911</td>\n",
       "      <td>1.332146e-02</td>\n",
       "      <td>-0.029635</td>\n",
       "      <td>4.412849e-01</td>\n",
       "      <td>-1.644752e-16</td>\n",
       "      <td>-5.259020e-16</td>\n",
       "      <td>-1.060869e-01</td>\n",
       "      <td>-9.884325e-03</td>\n",
       "      <td>1.000000e+00</td>\n",
       "      <td>-8.475013e-02</td>\n",
       "      <td>-5.633570e-02</td>\n",
       "      <td>0.010838</td>\n",
       "    </tr>\n",
       "    <tr>\n",
       "      <th>LATE_AIRCRAFT_DELAY</th>\n",
       "      <td>NaN</td>\n",
       "      <td>0.017418</td>\n",
       "      <td>0.104452</td>\n",
       "      <td>0.490561</td>\n",
       "      <td>-5.722170e-02</td>\n",
       "      <td>0.086015</td>\n",
       "      <td>4.265717e-01</td>\n",
       "      <td>-5.221617e-16</td>\n",
       "      <td>-3.289914e-15</td>\n",
       "      <td>-1.364108e-01</td>\n",
       "      <td>-1.213621e-02</td>\n",
       "      <td>-8.475013e-02</td>\n",
       "      <td>1.000000e+00</td>\n",
       "      <td>-2.167412e-02</td>\n",
       "      <td>0.018860</td>\n",
       "    </tr>\n",
       "    <tr>\n",
       "      <th>WEATHER_DELAY</th>\n",
       "      <td>NaN</td>\n",
       "      <td>0.032492</td>\n",
       "      <td>-0.023552</td>\n",
       "      <td>0.170522</td>\n",
       "      <td>-3.908468e-03</td>\n",
       "      <td>-0.025813</td>\n",
       "      <td>1.756343e-01</td>\n",
       "      <td>-8.928735e-16</td>\n",
       "      <td>3.890049e-15</td>\n",
       "      <td>1.950676e-02</td>\n",
       "      <td>2.736869e-04</td>\n",
       "      <td>-5.633570e-02</td>\n",
       "      <td>-2.167412e-02</td>\n",
       "      <td>1.000000e+00</td>\n",
       "      <td>0.005213</td>\n",
       "    </tr>\n",
       "    <tr>\n",
       "      <th>RESULT</th>\n",
       "      <td>NaN</td>\n",
       "      <td>0.054250</td>\n",
       "      <td>0.194770</td>\n",
       "      <td>0.556979</td>\n",
       "      <td>1.493929e-02</td>\n",
       "      <td>0.174976</td>\n",
       "      <td>6.343490e-01</td>\n",
       "      <td>6.287361e-02</td>\n",
       "      <td>2.075946e-01</td>\n",
       "      <td>1.066969e-02</td>\n",
       "      <td>1.107019e-03</td>\n",
       "      <td>1.083839e-02</td>\n",
       "      <td>1.885981e-02</td>\n",
       "      <td>5.213440e-03</td>\n",
       "      <td>1.000000</td>\n",
       "    </tr>\n",
       "  </tbody>\n",
       "</table>\n",
       "</div>"
      ],
      "text/plain": [
       "                     MONTH       DAY  SCHEDULED_DEPARTURE  DEPARTURE_DELAY  \\\n",
       "MONTH                  NaN       NaN                  NaN              NaN   \n",
       "DAY                    NaN  1.000000            -0.138124         0.059372   \n",
       "SCHEDULED_DEPARTURE    NaN -0.138124             1.000000         0.172143   \n",
       "DEPARTURE_DELAY        NaN  0.059372             0.172143         1.000000   \n",
       "AIR_TIME               NaN -0.035836            -0.011830         0.002715   \n",
       "SCHEDULED_ARRIVAL      NaN -0.110813             0.731239         0.153286   \n",
       "ARRIVAL_DELAY          NaN  0.069852             0.152796         0.946889   \n",
       "DIVERTED               NaN  0.004848             0.002514         0.020786   \n",
       "CANCELLED              NaN -0.005997            -0.002632         0.006094   \n",
       "AIR_SYSTEM_DELAY       NaN  0.051232            -0.063020         0.069533   \n",
       "SECURITY_DELAY         NaN -0.005532            -0.010069         0.006516   \n",
       "AIRLINE_DELAY          NaN -0.000840            -0.030513         0.491911   \n",
       "LATE_AIRCRAFT_DELAY    NaN  0.017418             0.104452         0.490561   \n",
       "WEATHER_DELAY          NaN  0.032492            -0.023552         0.170522   \n",
       "RESULT                 NaN  0.054250             0.194770         0.556979   \n",
       "\n",
       "                         AIR_TIME  SCHEDULED_ARRIVAL  ARRIVAL_DELAY  \\\n",
       "MONTH                         NaN                NaN            NaN   \n",
       "DAY                 -3.583626e-02          -0.110813   6.985227e-02   \n",
       "SCHEDULED_DEPARTURE -1.183048e-02           0.731239   1.527964e-01   \n",
       "DEPARTURE_DELAY      2.715462e-03           0.153286   9.468888e-01   \n",
       "AIR_TIME             1.000000e+00           0.040786  -2.747451e-03   \n",
       "SCHEDULED_ARRIVAL    4.078558e-02           1.000000   1.386002e-01   \n",
       "ARRIVAL_DELAY       -2.747451e-03           0.138600   1.000000e+00   \n",
       "DIVERTED             3.039896e-17           0.005992   8.161726e-16   \n",
       "CANCELLED            2.246452e-16          -0.013132  -2.882619e-16   \n",
       "AIR_SYSTEM_DELAY     4.301571e-02          -0.037872   1.933494e-01   \n",
       "SECURITY_DELAY       6.200966e-03          -0.004859   4.518918e-03   \n",
       "AIRLINE_DELAY        1.332146e-02          -0.029635   4.412849e-01   \n",
       "LATE_AIRCRAFT_DELAY -5.722170e-02           0.086015   4.265717e-01   \n",
       "WEATHER_DELAY       -3.908468e-03          -0.025813   1.756343e-01   \n",
       "RESULT               1.493929e-02           0.174976   6.343490e-01   \n",
       "\n",
       "                         DIVERTED     CANCELLED  AIR_SYSTEM_DELAY  \\\n",
       "MONTH                         NaN           NaN               NaN   \n",
       "DAY                  4.847920e-03 -5.996874e-03      5.123179e-02   \n",
       "SCHEDULED_DEPARTURE  2.514481e-03 -2.631739e-03     -6.301952e-02   \n",
       "DEPARTURE_DELAY      2.078627e-02  6.093710e-03      6.953257e-02   \n",
       "AIR_TIME             3.039896e-17  2.246452e-16      4.301571e-02   \n",
       "SCHEDULED_ARRIVAL    5.991802e-03 -1.313191e-02     -3.787218e-02   \n",
       "ARRIVAL_DELAY        8.161726e-16 -2.882619e-16      1.933494e-01   \n",
       "DIVERTED             1.000000e+00 -7.412660e-03     -1.376334e-15   \n",
       "CANCELLED           -7.412660e-03  1.000000e+00      4.558671e-15   \n",
       "AIR_SYSTEM_DELAY    -1.376334e-15  4.558671e-15      1.000000e+00   \n",
       "SECURITY_DELAY       1.840322e-17 -4.232270e-16     -1.462166e-02   \n",
       "AIRLINE_DELAY       -1.644752e-16 -5.259020e-16     -1.060869e-01   \n",
       "LATE_AIRCRAFT_DELAY -5.221617e-16 -3.289914e-15     -1.364108e-01   \n",
       "WEATHER_DELAY       -8.928735e-16  3.890049e-15      1.950676e-02   \n",
       "RESULT               6.287361e-02  2.075946e-01      1.066969e-02   \n",
       "\n",
       "                     SECURITY_DELAY  AIRLINE_DELAY  LATE_AIRCRAFT_DELAY  \\\n",
       "MONTH                           NaN            NaN                  NaN   \n",
       "DAY                   -5.532429e-03  -8.404666e-04         1.741757e-02   \n",
       "SCHEDULED_DEPARTURE   -1.006874e-02  -3.051324e-02         1.044521e-01   \n",
       "DEPARTURE_DELAY        6.515895e-03   4.919108e-01         4.905614e-01   \n",
       "AIR_TIME               6.200966e-03   1.332146e-02        -5.722170e-02   \n",
       "SCHEDULED_ARRIVAL     -4.859420e-03  -2.963511e-02         8.601490e-02   \n",
       "ARRIVAL_DELAY          4.518918e-03   4.412849e-01         4.265717e-01   \n",
       "DIVERTED               1.840322e-17  -1.644752e-16        -5.221617e-16   \n",
       "CANCELLED             -4.232270e-16  -5.259020e-16        -3.289914e-15   \n",
       "AIR_SYSTEM_DELAY      -1.462166e-02  -1.060869e-01        -1.364108e-01   \n",
       "SECURITY_DELAY         1.000000e+00  -9.884325e-03        -1.213621e-02   \n",
       "AIRLINE_DELAY         -9.884325e-03   1.000000e+00        -8.475013e-02   \n",
       "LATE_AIRCRAFT_DELAY   -1.213621e-02  -8.475013e-02         1.000000e+00   \n",
       "WEATHER_DELAY          2.736869e-04  -5.633570e-02        -2.167412e-02   \n",
       "RESULT                 1.107019e-03   1.083839e-02         1.885981e-02   \n",
       "\n",
       "                     WEATHER_DELAY    RESULT  \n",
       "MONTH                          NaN       NaN  \n",
       "DAY                   3.249248e-02  0.054250  \n",
       "SCHEDULED_DEPARTURE  -2.355221e-02  0.194770  \n",
       "DEPARTURE_DELAY       1.705218e-01  0.556979  \n",
       "AIR_TIME             -3.908468e-03  0.014939  \n",
       "SCHEDULED_ARRIVAL    -2.581266e-02  0.174976  \n",
       "ARRIVAL_DELAY         1.756343e-01  0.634349  \n",
       "DIVERTED             -8.928735e-16  0.062874  \n",
       "CANCELLED             3.890049e-15  0.207595  \n",
       "AIR_SYSTEM_DELAY      1.950676e-02  0.010670  \n",
       "SECURITY_DELAY        2.736869e-04  0.001107  \n",
       "AIRLINE_DELAY        -5.633570e-02  0.010838  \n",
       "LATE_AIRCRAFT_DELAY  -2.167412e-02  0.018860  \n",
       "WEATHER_DELAY         1.000000e+00  0.005213  \n",
       "RESULT                5.213440e-03  1.000000  "
      ]
     },
     "execution_count": 147,
     "metadata": {},
     "output_type": "execute_result"
    }
   ],
   "source": [
    "flights.corr()"
   ]
  },
  {
   "cell_type": "code",
   "execution_count": 139,
   "metadata": {},
   "outputs": [
    {
     "data": {
      "text/plain": [
       "<matplotlib.axes._subplots.AxesSubplot at 0x262148238e0>"
      ]
     },
     "execution_count": 139,
     "metadata": {},
     "output_type": "execute_result"
    },
    {
     "data": {
      "image/png": "[encoded data removed]",
      "text/plain": [
       "<Figure size 1080x1080 with 2 Axes>"
      ]
     },
     "metadata": {
      "needs_background": "light"
     },
     "output_type": "display_data"
    }
   ],
   "source": [
    "from matplotlib import rcParams\n",
    "rcParams[\"figure.figsize\"]=[15,15]\n",
    "sns.heatmap(flights.corr(), annot=True, cmap='magma', linecolor='white', linewidths=0.5)"
   ]
  },
  {
   "cell_type": "code",
   "execution_count": 140,
   "metadata": {},
   "outputs": [],
   "source": [
    "flights['RESULT']=flights['ARRIVAL_DELAY'].apply(lambda x: 1 if x>15 else 0)"
   ]
  },
  {
   "cell_type": "code",
   "execution_count": 141,
   "metadata": {},
   "outputs": [
    {
     "data": {
      "text/plain": [
       "0    63778\n",
       "1    36221\n",
       "Name: RESULT, dtype: int64"
      ]
     },
     "execution_count": 141,
     "metadata": {},
     "output_type": "execute_result"
    }
   ],
   "source": [
    "flights['RESULT'].value_counts()"
   ]
  },
  {
   "cell_type": "code",
   "execution_count": 145,
   "metadata": {},
   "outputs": [
    {
     "data": {
      "text/plain": [
       "<matplotlib.axes._subplots.AxesSubplot at 0x262142f2dc0>"
      ]
     },
     "execution_count": 145,
     "metadata": {},
     "output_type": "execute_result"
    },
    {
     "data": {
      "image/png": "[encoded data removed]",
      "text/plain": [
       "<Figure size 432x288 with 1 Axes>"
      ]
     },
     "metadata": {
      "needs_background": "light"
     },
     "output_type": "display_data"
    }
   ],
   "source": [
    "plt.figure(figsize=(6,4))\n",
    "sns.countplot(x='RESULT',data= flights,palette='Set1')"
   ]
  },
  {
   "cell_type": "code",
   "execution_count": null,
   "metadata": {},
   "outputs": [],
   "source": [
    "flights.plot.bar(stacked=True)"
   ]
  },
  {
   "cell_type": "code",
   "execution_count": null,
   "metadata": {},
   "outputs": [],
   "source": []
  },
  {
   "cell_type": "markdown",
   "metadata": {},
   "source": [
    "## Setting the Data"
   ]
  },
  {
   "cell_type": "code",
   "execution_count": 148,
   "metadata": {},
   "outputs": [
    {
     "name": "stdout",
     "output_type": "stream",
     "text": [
      "<class 'pandas.core.frame.DataFrame'>\n",
      "Int64Index: 99999 entries, 0 to 99998\n",
      "Data columns (total 17 columns):\n",
      " #   Column               Non-Null Count  Dtype  \n",
      "---  ------               --------------  -----  \n",
      " 0   MONTH                99999 non-null  int64  \n",
      " 1   DAY                  99999 non-null  int64  \n",
      " 2   ORIGIN_AIRPORT       99999 non-null  object \n",
      " 3   DESTINATION_AIRPORT  99999 non-null  object \n",
      " 4   SCHEDULED_DEPARTURE  99999 non-null  int64  \n",
      " 5   DEPARTURE_DELAY      99999 non-null  float64\n",
      " 6   AIR_TIME             99999 non-null  float64\n",
      " 7   SCHEDULED_ARRIVAL    99999 non-null  int64  \n",
      " 8   ARRIVAL_DELAY        99999 non-null  float64\n",
      " 9   DIVERTED             99999 non-null  int64  \n",
      " 10  CANCELLED            99999 non-null  int64  \n",
      " 11  AIR_SYSTEM_DELAY     99999 non-null  float64\n",
      " 12  SECURITY_DELAY       99999 non-null  float64\n",
      " 13  AIRLINE_DELAY        99999 non-null  float64\n",
      " 14  LATE_AIRCRAFT_DELAY  99999 non-null  float64\n",
      " 15  WEATHER_DELAY        99999 non-null  float64\n",
      " 16  RESULT               99999 non-null  int64  \n",
      "dtypes: float64(8), int64(7), object(2)\n",
      "memory usage: 16.2+ MB\n"
     ]
    }
   ],
   "source": [
    "flights.info()"
   ]
  },
  {
   "cell_type": "code",
   "execution_count": 149,
   "metadata": {},
   "outputs": [
    {
     "data": {
      "text/html": [
       "<div>\n",
       "<style scoped>\n",
       "    .dataframe tbody tr th:only-of-type {\n",
       "        vertical-align: middle;\n",
       "    }\n",
       "\n",
       "    .dataframe tbody tr th {\n",
       "        vertical-align: top;\n",
       "    }\n",
       "\n",
       "    .dataframe thead th {\n",
       "        text-align: right;\n",
       "    }\n",
       "</style>\n",
       "<table border=\"1\" class=\"dataframe\">\n",
       "  <thead>\n",
       "    <tr style=\"text-align: right;\">\n",
       "      <th></th>\n",
       "      <th>MONTH</th>\n",
       "      <th>DAY</th>\n",
       "      <th>ORIGIN_AIRPORT</th>\n",
       "      <th>DESTINATION_AIRPORT</th>\n",
       "      <th>SCHEDULED_DEPARTURE</th>\n",
       "      <th>DEPARTURE_DELAY</th>\n",
       "      <th>AIR_TIME</th>\n",
       "      <th>SCHEDULED_ARRIVAL</th>\n",
       "      <th>ARRIVAL_DELAY</th>\n",
       "      <th>DIVERTED</th>\n",
       "      <th>CANCELLED</th>\n",
       "      <th>AIR_SYSTEM_DELAY</th>\n",
       "      <th>SECURITY_DELAY</th>\n",
       "      <th>AIRLINE_DELAY</th>\n",
       "      <th>LATE_AIRCRAFT_DELAY</th>\n",
       "      <th>WEATHER_DELAY</th>\n",
       "      <th>RESULT</th>\n",
       "    </tr>\n",
       "  </thead>\n",
       "  <tbody>\n",
       "    <tr>\n",
       "      <th>0</th>\n",
       "      <td>1</td>\n",
       "      <td>1</td>\n",
       "      <td>ANC</td>\n",
       "      <td>SEA</td>\n",
       "      <td>5</td>\n",
       "      <td>-11.0</td>\n",
       "      <td>169.0</td>\n",
       "      <td>430</td>\n",
       "      <td>-22.0</td>\n",
       "      <td>0</td>\n",
       "      <td>0</td>\n",
       "      <td>14.026801</td>\n",
       "      <td>0.070787</td>\n",
       "      <td>17.853921</td>\n",
       "      <td>26.014556</td>\n",
       "      <td>2.751971</td>\n",
       "      <td>0</td>\n",
       "    </tr>\n",
       "    <tr>\n",
       "      <th>1</th>\n",
       "      <td>1</td>\n",
       "      <td>1</td>\n",
       "      <td>LAX</td>\n",
       "      <td>PBI</td>\n",
       "      <td>10</td>\n",
       "      <td>-8.0</td>\n",
       "      <td>263.0</td>\n",
       "      <td>750</td>\n",
       "      <td>-9.0</td>\n",
       "      <td>0</td>\n",
       "      <td>0</td>\n",
       "      <td>14.026801</td>\n",
       "      <td>0.070787</td>\n",
       "      <td>17.853921</td>\n",
       "      <td>26.014556</td>\n",
       "      <td>2.751971</td>\n",
       "      <td>0</td>\n",
       "    </tr>\n",
       "    <tr>\n",
       "      <th>2</th>\n",
       "      <td>1</td>\n",
       "      <td>1</td>\n",
       "      <td>SFO</td>\n",
       "      <td>CLT</td>\n",
       "      <td>20</td>\n",
       "      <td>-2.0</td>\n",
       "      <td>266.0</td>\n",
       "      <td>806</td>\n",
       "      <td>5.0</td>\n",
       "      <td>0</td>\n",
       "      <td>0</td>\n",
       "      <td>14.026801</td>\n",
       "      <td>0.070787</td>\n",
       "      <td>17.853921</td>\n",
       "      <td>26.014556</td>\n",
       "      <td>2.751971</td>\n",
       "      <td>0</td>\n",
       "    </tr>\n",
       "    <tr>\n",
       "      <th>3</th>\n",
       "      <td>1</td>\n",
       "      <td>1</td>\n",
       "      <td>LAX</td>\n",
       "      <td>MIA</td>\n",
       "      <td>20</td>\n",
       "      <td>-5.0</td>\n",
       "      <td>258.0</td>\n",
       "      <td>805</td>\n",
       "      <td>-9.0</td>\n",
       "      <td>0</td>\n",
       "      <td>0</td>\n",
       "      <td>14.026801</td>\n",
       "      <td>0.070787</td>\n",
       "      <td>17.853921</td>\n",
       "      <td>26.014556</td>\n",
       "      <td>2.751971</td>\n",
       "      <td>0</td>\n",
       "    </tr>\n",
       "    <tr>\n",
       "      <th>4</th>\n",
       "      <td>1</td>\n",
       "      <td>1</td>\n",
       "      <td>SEA</td>\n",
       "      <td>ANC</td>\n",
       "      <td>25</td>\n",
       "      <td>-1.0</td>\n",
       "      <td>199.0</td>\n",
       "      <td>320</td>\n",
       "      <td>-21.0</td>\n",
       "      <td>0</td>\n",
       "      <td>0</td>\n",
       "      <td>14.026801</td>\n",
       "      <td>0.070787</td>\n",
       "      <td>17.853921</td>\n",
       "      <td>26.014556</td>\n",
       "      <td>2.751971</td>\n",
       "      <td>0</td>\n",
       "    </tr>\n",
       "  </tbody>\n",
       "</table>\n",
       "</div>"
      ],
      "text/plain": [
       "   MONTH  DAY ORIGIN_AIRPORT DESTINATION_AIRPORT  SCHEDULED_DEPARTURE  \\\n",
       "0      1    1            ANC                 SEA                    5   \n",
       "1      1    1            LAX                 PBI                   10   \n",
       "2      1    1            SFO                 CLT                   20   \n",
       "3      1    1            LAX                 MIA                   20   \n",
       "4      1    1            SEA                 ANC                   25   \n",
       "\n",
       "   DEPARTURE_DELAY  AIR_TIME  SCHEDULED_ARRIVAL  ARRIVAL_DELAY  DIVERTED  \\\n",
       "0            -11.0     169.0                430          -22.0         0   \n",
       "1             -8.0     263.0                750           -9.0         0   \n",
       "2             -2.0     266.0                806            5.0         0   \n",
       "3             -5.0     258.0                805           -9.0         0   \n",
       "4             -1.0     199.0                320          -21.0         0   \n",
       "\n",
       "   CANCELLED  AIR_SYSTEM_DELAY  SECURITY_DELAY  AIRLINE_DELAY  \\\n",
       "0          0         14.026801        0.070787      17.853921   \n",
       "1          0         14.026801        0.070787      17.853921   \n",
       "2          0         14.026801        0.070787      17.853921   \n",
       "3          0         14.026801        0.070787      17.853921   \n",
       "4          0         14.026801        0.070787      17.853921   \n",
       "\n",
       "   LATE_AIRCRAFT_DELAY  WEATHER_DELAY  RESULT  \n",
       "0            26.014556       2.751971       0  \n",
       "1            26.014556       2.751971       0  \n",
       "2            26.014556       2.751971       0  \n",
       "3            26.014556       2.751971       0  \n",
       "4            26.014556       2.751971       0  "
      ]
     },
     "execution_count": 149,
     "metadata": {},
     "output_type": "execute_result"
    }
   ],
   "source": [
    "flights.head()"
   ]
  },
  {
   "cell_type": "markdown",
   "metadata": {},
   "source": [
    "## Train Test Split"
   ]
  },
  {
   "cell_type": "code",
   "execution_count": 107,
   "metadata": {},
   "outputs": [],
   "source": [
    "from sklearn.model_selection import train_test_split"
   ]
  },
  {
   "cell_type": "code",
   "execution_count": 150,
   "metadata": {},
   "outputs": [],
   "source": [
    "X= flights.iloc[:,:-1]"
   ]
  },
  {
   "cell_type": "code",
   "execution_count": 151,
   "metadata": {},
   "outputs": [],
   "source": [
    "Y=flights['RESULT']"
   ]
  },
  {
   "cell_type": "code",
   "execution_count": 111,
   "metadata": {},
   "outputs": [],
   "source": [
    "X_train, X_test, Y_train, Y_test= train_test_split(X,Y, test_size= 0.3, random_state= 42)"
   ]
  },
  {
   "cell_type": "markdown",
   "metadata": {},
   "source": [
    "## Training a Decision Tree Model"
   ]
  },
  {
   "cell_type": "code",
   "execution_count": 114,
   "metadata": {},
   "outputs": [],
   "source": [
    "from sklearn.tree import DecisionTreeClassifier"
   ]
  },
  {
   "cell_type": "code",
   "execution_count": 69,
   "metadata": {},
   "outputs": [],
   "source": [
    "clf = DecisionTreeClassifier()"
   ]
  },
  {
   "cell_type": "code",
   "execution_count": 118,
   "metadata": {},
   "outputs": [
    {
     "data": {
      "text/plain": [
       "DecisionTreeClassifier()"
      ]
     },
     "execution_count": 118,
     "metadata": {},
     "output_type": "execute_result"
    }
   ],
   "source": [
    "clf.fit(X_train,Y_train)"
   ]
  },
  {
   "cell_type": "markdown",
   "metadata": {},
   "source": [
    "## Predictions and Evaluation of Decision Tree"
   ]
  },
  {
   "cell_type": "code",
   "execution_count": 119,
   "metadata": {},
   "outputs": [],
   "source": [
    "Predictions = clf.predict(X_test)"
   ]
  },
  {
   "cell_type": "code",
   "execution_count": 120,
   "metadata": {},
   "outputs": [],
   "source": [
    "from sklearn.metrics import classification_report,confusion_matrix"
   ]
  },
  {
   "cell_type": "code",
   "execution_count": 122,
   "metadata": {},
   "outputs": [
    {
     "name": "stdout",
     "output_type": "stream",
     "text": [
      "              precision    recall  f1-score   support\n",
      "\n",
      "           0       1.00      1.00      1.00     19043\n",
      "           1       1.00      1.00      1.00     10957\n",
      "\n",
      "    accuracy                           1.00     30000\n",
      "   macro avg       1.00      1.00      1.00     30000\n",
      "weighted avg       1.00      1.00      1.00     30000\n",
      "\n"
     ]
    }
   ],
   "source": [
    "print(classification_report(Y_test,Predictions))"
   ]
  },
  {
   "cell_type": "code",
   "execution_count": 123,
   "metadata": {},
   "outputs": [
    {
     "name": "stdout",
     "output_type": "stream",
     "text": [
      "[[19022    21]\n",
      " [   45 10912]]\n"
     ]
    }
   ],
   "source": [
    "print(confusion_matrix(Y_test,Predictions))"
   ]
  },
  {
   "cell_type": "code",
   "execution_count": 155,
   "metadata": {},
   "outputs": [
    {
     "data": {
      "text/plain": [
       "<matplotlib.collections.PathCollection at 0x26210bf1af0>"
      ]
     },
     "execution_count": 155,
     "metadata": {},
     "output_type": "execute_result"
    },
    {
     "data": {
      "image/png": "[encoded data removed]",
      "text/plain": [
       "<Figure size 144x144 with 1 Axes>"
      ]
     },
     "metadata": {
      "needs_background": "light"
     },
     "output_type": "display_data"
    }
   ],
   "source": [
    "plt.figure(figsize=(2,2))\n",
    "plt.scatter(Y_test,Predictions)"
   ]
  },
  {
   "cell_type": "code",
   "execution_count": 158,
   "metadata": {},
   "outputs": [
    {
     "name": "stderr",
     "output_type": "stream",
     "text": [
      "C:\\Users\\Ujjwal\\anaconda3\\lib\\site-packages\\seaborn\\distributions.py:369: UserWarning: Default bandwidth for data is 0; skipping density estimation.\n",
      "  warnings.warn(msg, UserWarning)\n"
     ]
    },
    {
     "data": {
      "text/plain": [
       "<matplotlib.axes._subplots.AxesSubplot at 0x26214451a00>"
      ]
     },
     "execution_count": 158,
     "metadata": {},
     "output_type": "execute_result"
    },
    {
     "data": {
      "image/png": "[encoded data removed]",
      "text/plain": [
       "<Figure size 216x216 with 1 Axes>"
      ]
     },
     "metadata": {
      "needs_background": "light"
     },
     "output_type": "display_data"
    }
   ],
   "source": [
    "plt.figure(figsize=(3,3))\n",
    "sns.distplot(Y_test-Predictions)"
   ]
  },
  {
   "cell_type": "markdown",
   "metadata": {},
   "source": [
    "# Accuracy"
   ]
  },
  {
   "cell_type": "markdown",
   "metadata": {},
   "source": [
    "Accuracy =(TP+TN)/ Total Number of Observation"
   ]
  },
  {
   "cell_type": "markdown",
   "metadata": {},
   "source": [
    "Accuracy= (19022+10912)/30000\n",
    "        = 99.78%"
   ]
  }
 ],
 "metadata": {
  "kernelspec": {
   "display_name": "Python 3",
   "language": "python",
   "name": "python3"
  },
  "language_info": {
   "codemirror_mode": {
    "name": "ipython",
    "version": 3
   },
   "file_extension": ".py",
   "mimetype": "text/x-python",
   "name": "python",
   "nbconvert_exporter": "python",
   "pygments_lexer": "ipython3",
   "version": "3.8.3"
  }
 },
 "nbformat": 4,
 "nbformat_minor": 4
}
